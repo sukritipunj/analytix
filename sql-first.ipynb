{
 "cells": [
  {
   "cell_type": "markdown",
   "metadata": {},
   "source": [
    "# SQL-first Analytics approach with SQLite and Pandas\n",
    "A series of SQL queries to perform:\n",
    "- Basic aggregations\n",
    "- Time-series growth analysis\n",
    "- Segment profitability and ranking"
   ]
  },
  {
   "cell_type": "code",
   "execution_count": 1,
   "metadata": {},
   "outputs": [],
   "source": [
    "import sqlite3\n",
    "import pandas as pd"
   ]
  },
  {
   "cell_type": "markdown",
   "metadata": {},
   "source": [
    "## Loaded it into an SQLite in-memory database for SQL querying"
   ]
  },
  {
   "cell_type": "code",
   "execution_count": 14,
   "metadata": {},
   "outputs": [
    {
     "data": {
      "text/plain": [
       "718"
      ]
     },
     "execution_count": 14,
     "metadata": {},
     "output_type": "execute_result"
    }
   ],
   "source": [
    "\n",
    "financial_data = pd.read_csv('Financial_Sample_Cleaned.csv')\n",
    "targets = pd.read_csv('monthly_targets.csv')\n",
    "\n",
    "# Create an in-memory SQLite database and load the DataFrame as a SQL table\n",
    "conn = sqlite3.connect(':memory:')\n",
    "financial_data.to_sql('financial_data', conn, index=False, if_exists='replace')"
   ]
  },
  {
   "cell_type": "markdown",
   "metadata": {},
   "source": [
    "## Revenue & Profit Aggregation by Segment\n",
    "Calculated total revenue, average profit, and transaction count for each customer segment."
   ]
  },
  {
   "cell_type": "code",
   "execution_count": 18,
   "metadata": {},
   "outputs": [
    {
     "name": "stdout",
     "output_type": "stream",
     "text": [
      "Basic Aggregation:\n",
      "            Segment  total_revenue    avg_profit  transactions\n",
      "0        Government   5.250426e+07  37960.577233           300\n",
      "1    Small Business   4.242792e+07  41431.685000           100\n",
      "2        Enterprise   1.961169e+07  -6145.456250           100\n",
      "3         Midmarket   2.381883e+06   6601.030750           100\n",
      "4  Channel Partners   1.800594e+06  13168.031400           100\n",
      "5              None            NaN           NaN            18\n"
     ]
    }
   ],
   "source": [
    "# Define and execute the SQL queries\n",
    "\n",
    "# Basic aggregation\n",
    "query = \"\"\"\n",
    "SELECT \n",
    "    Segment,\n",
    "    SUM(Sales) as total_revenue,\n",
    "    AVG(Profit) as avg_profit,\n",
    "    COUNT(*) as transactions\n",
    "FROM financial_data \n",
    "GROUP BY Segment\n",
    "ORDER BY total_revenue DESC;\n",
    "\"\"\"\n",
    "result = pd.read_sql_query(query, conn)\n",
    "print(\"Basic Aggregation:\")\n",
    "print(result)"
   ]
  },
  {
   "cell_type": "markdown",
   "metadata": {},
   "source": [
    "## Monthly Sales Growth Analysis\n",
    "Used window functions to compute month-over-month sales growth rates.\n"
   ]
  },
  {
   "cell_type": "code",
   "execution_count": 19,
   "metadata": {},
   "outputs": [
    {
     "name": "stdout",
     "output_type": "stream",
     "text": [
      "\n",
      "Window Functions:\n",
      "   Month_Name  monthly_sales   prev_month  growth_rate\n",
      "0        None            NaN          NaN          NaN\n",
      "1     January     6607761.68          NaN          NaN\n",
      "2    February     7297531.39   6607761.68    10.438780\n",
      "3       March     5586859.87   7297531.39   -23.441784\n",
      "4       April     6964775.07   5586859.87    24.663500\n",
      "5         May     6210211.06   6964775.07   -10.834004\n",
      "6        June     9518893.82   6210211.06    53.278105\n",
      "7        July     8102920.18   9518893.82   -14.875401\n",
      "8      August     5864622.42   8102920.18   -27.623347\n",
      "9   September    10882697.27   5864622.42    85.565182\n",
      "10    October    21671431.02  10882697.27    99.136579\n",
      "11   November    12651417.50  21671431.02   -41.621679\n",
      "12   December    17367228.98  12651417.50    37.274965\n"
     ]
    }
   ],
   "source": [
    "# Window functions (SQLite supports window functions from version 3.25+)\n",
    "query = \"\"\"\n",
    "SELECT \n",
    "    Month_Name,\n",
    "    SUM(Sales) as monthly_sales,\n",
    "    LAG(SUM(Sales)) OVER (ORDER BY Month_Number) as prev_month,\n",
    "    (SUM(Sales) - LAG(SUM(Sales)) OVER (ORDER BY Month_Number)) * 100.0 / \n",
    "    LAG(SUM(Sales)) OVER (ORDER BY Month_Number) as growth_rate\n",
    "FROM financial_data\n",
    "GROUP BY Month_Number, Month_Name\n",
    "ORDER BY Month_Number;\n",
    "\"\"\"\n",
    "result = pd.read_sql_query(query, conn)\n",
    "print(\"\\nWindow Functions:\")\n",
    "print(result)"
   ]
  },
  {
   "cell_type": "markdown",
   "metadata": {},
   "source": [
    "## Segment Profitability & Ranking\n",
    "Leveraged a Common Table Expression to summarize revenue, costs, and profit, then assigned a rank by profitability to each segment."
   ]
  },
  {
   "cell_type": "code",
   "execution_count": 20,
   "metadata": {},
   "outputs": [
    {
     "name": "stdout",
     "output_type": "stream",
     "text": [
      "\n",
      "CTEs and Ranking:\n",
      "            Segment       revenue        profit  profit_margin  profit_rank\n",
      "0        Government  5.250426e+07  1.138817e+07          21.69            1\n",
      "1    Small Business  4.242792e+07  4.143168e+06           9.77            2\n",
      "2  Channel Partners  1.800594e+06  1.316803e+06          73.13            3\n",
      "3         Midmarket  2.381883e+06  6.601031e+05          27.71            4\n",
      "4        Enterprise  1.961169e+07 -6.145456e+05          -3.13            5\n",
      "5              None           NaN           NaN            NaN            6\n"
     ]
    }
   ],
   "source": [
    "# CTEs and window functions\n",
    "query = \"\"\"\n",
    "WITH segment_performance AS (\n",
    "    SELECT \n",
    "        Segment,\n",
    "        SUM(Sales) as revenue,\n",
    "        SUM(COGS) as costs,\n",
    "        SUM(Profit) as profit\n",
    "    FROM financial_data\n",
    "    GROUP BY Segment\n",
    ")\n",
    "SELECT \n",
    "    Segment,\n",
    "    revenue,\n",
    "    profit,\n",
    "    ROUND(profit*100.0/revenue, 2) as profit_margin,\n",
    "    ROW_NUMBER() OVER (ORDER BY profit DESC) as profit_rank\n",
    "FROM segment_performance;\n",
    "\"\"\"\n",
    "result = pd.read_sql_query(query, conn)\n",
    "print(\"\\nCTEs and Ranking:\")\n",
    "print(result)\n"
   ]
  },
  {
   "cell_type": "markdown",
   "metadata": {},
   "source": [
    "## Customer Risk & Value Segmentation\n",
    "Built a multi-step analysis that:\n",
    "1. Groups customers by segment & country  \n",
    "2. Calculates frequency, avg transaction, total value, volatility, and NTILE quartiles  \n",
    "3. Classifies risk category (VIP, High Value, High Risk, Standard)"
   ]
  },
  {
   "cell_type": "code",
   "execution_count": 11,
   "metadata": {},
   "outputs": [
    {
     "name": "stdout",
     "output_type": "stream",
     "text": [
      "Customer Risk Analysis:\n",
      "             Segment                   Country  transaction_frequency  \\\n",
      "0         Government                    France                     60   \n",
      "1     Small Business  United States of America                     20   \n",
      "2         Government                   Germany                     60   \n",
      "3         Government                    Canada                     60   \n",
      "4         Government                    Mexico                     60   \n",
      "5     Small Business                    Canada                     20   \n",
      "6         Government  United States of America                     60   \n",
      "7     Small Business                    France                     20   \n",
      "8     Small Business                   Germany                     20   \n",
      "9     Small Business                    Mexico                     20   \n",
      "10        Enterprise  United States of America                     20   \n",
      "11        Enterprise                   Germany                     20   \n",
      "12        Enterprise                    Canada                     20   \n",
      "13        Enterprise                    France                     20   \n",
      "14        Enterprise                    Mexico                     20   \n",
      "15         Midmarket                    France                     20   \n",
      "16         Midmarket                    Mexico                     20   \n",
      "17         Midmarket                    Canada                     20   \n",
      "18  Channel Partners                    Canada                     20   \n",
      "19         Midmarket  United States of America                     20   \n",
      "20  Channel Partners                    France                     20   \n",
      "21  Channel Partners  United States of America                     20   \n",
      "22  Channel Partners                   Germany                     20   \n",
      "23         Midmarket                   Germany                     20   \n",
      "24  Channel Partners                    Mexico                     20   \n",
      "25              None                      None                     18   \n",
      "\n",
      "    avg_transaction   total_value  value_volatility  value_quintile  \\\n",
      "0     202129.712000  1.212778e+07        960736.140               1   \n",
      "1     572827.950000  1.145656e+07        699672.000               1   \n",
      "2     190881.599000  1.145290e+07       1015652.400               1   \n",
      "3     179020.608667  1.074124e+07        976580.920               1   \n",
      "4     163193.323000  9.791599e+06        845663.840               1   \n",
      "5     458877.450000  9.177549e+06        968680.500               1   \n",
      "6     139845.768500  8.390746e+06       1157469.460               2   \n",
      "7     368480.325000  7.369606e+06        620533.500               2   \n",
      "8     366392.400000  7.327848e+06        687621.000               2   \n",
      "9     354817.800000  7.096356e+06        649773.000               2   \n",
      "10    217530.250000  4.350605e+06        389868.750               2   \n",
      "11    204341.312500  4.086826e+06        468787.500               3   \n",
      "12    198374.562500  3.967491e+06        291177.500               3   \n",
      "13    194544.531250  3.890891e+06        444080.625               3   \n",
      "14    165794.062500  3.315881e+06        264895.000               3   \n",
      "15     29690.103750  5.938021e+05         48827.250               3   \n",
      "16     25556.820000  5.111364e+05         37425.000               4   \n",
      "17     25510.698750  5.102140e+05         36961.200               4   \n",
      "18     24558.207000  4.911641e+05         36395.760               4   \n",
      "19     23269.293750  4.653859e+05         42255.000               4   \n",
      "20     18604.518000  3.720904e+05         28389.960               4   \n",
      "21     18326.709000  3.665342e+05         26546.640               5   \n",
      "22     16821.294000  3.364259e+05         29652.000               5   \n",
      "23     15067.237500  3.013448e+05         26566.800               5   \n",
      "24     11718.954000  2.343791e+05         26827.440               5   \n",
      "25              NaN           NaN               NaN               5   \n",
      "\n",
      "   risk_category  \n",
      "0      High Risk  \n",
      "1       Standard  \n",
      "2      High Risk  \n",
      "3      High Risk  \n",
      "4      High Risk  \n",
      "5       Standard  \n",
      "6      High Risk  \n",
      "7       Standard  \n",
      "8       Standard  \n",
      "9       Standard  \n",
      "10      Standard  \n",
      "11      Standard  \n",
      "12      Standard  \n",
      "13      Standard  \n",
      "14      Standard  \n",
      "15      Standard  \n",
      "16    High Value  \n",
      "17    High Value  \n",
      "18    High Value  \n",
      "19    High Value  \n",
      "20    High Value  \n",
      "21           VIP  \n",
      "22           VIP  \n",
      "23           VIP  \n",
      "24           VIP  \n",
      "25           VIP  \n"
     ]
    }
   ],
   "source": [
    "# Customer Risk Analysis SQL query\n",
    "query_customer_risk = \"\"\"\n",
    "WITH customer_risk AS (\n",
    "    SELECT \n",
    "        Segment,\n",
    "        Country,\n",
    "        COUNT(*) as transaction_frequency,\n",
    "        AVG(Sales) as avg_transaction,\n",
    "        SUM(Sales) as total_value,\n",
    "        MAX(Sales) - MIN(Sales) as value_volatility,\n",
    "        NTILE(5) OVER (ORDER BY SUM(Sales) DESC) as value_quintile\n",
    "    FROM financial_data\n",
    "    GROUP BY Segment, Country\n",
    ")\n",
    "SELECT \n",
    "    *,\n",
    "    CASE \n",
    "        WHEN value_quintile = 5 AND transaction_frequency > 10 THEN 'VIP'\n",
    "        WHEN value_quintile >= 4 THEN 'High Value'  \n",
    "        WHEN value_volatility > avg_transaction * 3 THEN 'High Risk'\n",
    "        ELSE 'Standard'\n",
    "    END as risk_category\n",
    "FROM customer_risk;\n",
    "\"\"\"\n",
    "\n",
    "customer_risk_result = pd.read_sql_query(query_customer_risk, conn)\n",
    "print(\"Customer Risk Analysis:\")\n",
    "print(customer_risk_result)\n"
   ]
  },
  {
   "cell_type": "code",
   "execution_count": 9,
   "metadata": {},
   "outputs": [],
   "source": [
    "# Close connection when done\n",
    "conn.close()\n"
   ]
  }
 ],
 "metadata": {
  "kernelspec": {
   "display_name": "Python 3",
   "language": "python",
   "name": "python3"
  },
  "language_info": {
   "codemirror_mode": {
    "name": "ipython",
    "version": 3
   },
   "file_extension": ".py",
   "mimetype": "text/x-python",
   "name": "python",
   "nbconvert_exporter": "python",
   "pygments_lexer": "ipython3",
   "version": "3.13.3"
  }
 },
 "nbformat": 4,
 "nbformat_minor": 2
}
